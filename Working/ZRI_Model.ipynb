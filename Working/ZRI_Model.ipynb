{
 "cells": [
  {
   "cell_type": "code",
   "execution_count": 50,
   "metadata": {},
   "outputs": [],
   "source": [
    "import pandas as pd\n",
    "import numpy as np\n",
    "import seaborn as sns\n",
    "import matplotlib.pyplot as plt\n",
    "\n",
    "pd.set_option('display.max_columns', 150)\n",
    "pd.set_option('display.max_rows', 250)"
   ]
  },
  {
   "cell_type": "markdown",
   "metadata": {},
   "source": [
    "### Base LR model with only ZRI from the previous year"
   ]
  },
  {
   "cell_type": "code",
   "execution_count": 68,
   "metadata": {},
   "outputs": [],
   "source": [
    "full = pd.read_csv('full_data.csv')"
   ]
  },
  {
   "cell_type": "code",
   "execution_count": 69,
   "metadata": {},
   "outputs": [],
   "source": [
    "full = full.iloc[:,:-1]"
   ]
  },
  {
   "cell_type": "code",
   "execution_count": 70,
   "metadata": {},
   "outputs": [],
   "source": [
    "full_num = full[full.columns[~full.columns.isin(['state','index_y','index_merge'])]]"
   ]
  },
  {
   "cell_type": "code",
   "execution_count": 71,
   "metadata": {},
   "outputs": [
    {
     "name": "stdout",
     "output_type": "stream",
     "text": [
      "<class 'pandas.core.frame.DataFrame'>\n",
      "RangeIndex: 104568 entries, 0 to 104567\n",
      "Columns: 261 entries, index_x to in_grades_x\n",
      "dtypes: float64(253), int64(3), object(5)\n",
      "memory usage: 208.2+ MB\n"
     ]
    }
   ],
   "source": [
    "full.info()"
   ]
  },
  {
   "cell_type": "code",
   "execution_count": 72,
   "metadata": {},
   "outputs": [],
   "source": [
    "test = full.loc[full['year']==2017]\n",
    "train = full.loc[full['year']!=2017]"
   ]
  },
  {
   "cell_type": "code",
   "execution_count": 73,
   "metadata": {},
   "outputs": [],
   "source": [
    "X_zri_test = test[['ZRI_1yr_ago']]\n",
    "y_zri_test = test['ZRI']"
   ]
  },
  {
   "cell_type": "code",
   "execution_count": 74,
   "metadata": {},
   "outputs": [],
   "source": [
    "X_zri_train = train[['ZRI_1yr_ago']]\n",
    "y_zri_train = train['ZRI']"
   ]
  },
  {
   "cell_type": "code",
   "execution_count": 75,
   "metadata": {},
   "outputs": [
    {
     "data": {
      "text/plain": [
       "0.9871022030170161"
      ]
     },
     "execution_count": 75,
     "metadata": {},
     "output_type": "execute_result"
    }
   ],
   "source": [
    "from sklearn.linear_model import LinearRegression\n",
    "\n",
    "lm = LinearRegression()\n",
    "lm.fit(X_zri_train, y_zri_train)\n",
    "lm.score(X_zri_train, y_zri_train)"
   ]
  },
  {
   "cell_type": "code",
   "execution_count": 76,
   "metadata": {},
   "outputs": [
    {
     "data": {
      "text/plain": [
       "0.9844745451826197"
      ]
     },
     "execution_count": 76,
     "metadata": {},
     "output_type": "execute_result"
    }
   ],
   "source": [
    "lm.score(X_zri_test, y_zri_test)"
   ]
  },
  {
   "cell_type": "code",
   "execution_count": 77,
   "metadata": {},
   "outputs": [
    {
     "data": {
      "text/plain": [
       "<matplotlib.axes._subplots.AxesSubplot at 0x29ed743ab20>"
      ]
     },
     "execution_count": 77,
     "metadata": {},
     "output_type": "execute_result"
    },
    {
     "data": {
      "image/png": "[encoded data removed]",
      "text/plain": [
       "<Figure size 432x288 with 1 Axes>"
      ]
     },
     "metadata": {
      "needs_background": "light"
     },
     "output_type": "display_data"
    }
   ],
   "source": [
    "(lm.predict(X_zri_test) - y_zri_test).hist()"
   ]
  },
  {
   "cell_type": "code",
   "execution_count": 78,
   "metadata": {},
   "outputs": [
    {
     "name": "stdout",
     "output_type": "stream",
     "text": [
      "                            OLS Regression Results                            \n",
      "==============================================================================\n",
      "Dep. Variable:                    ZRI   R-squared:                       0.987\n",
      "Model:                            OLS   Adj. R-squared:                  0.987\n",
      "Method:                 Least Squares   F-statistic:                 6.005e+06\n",
      "Date:                Wed, 16 Dec 2020   Prob (F-statistic):               0.00\n",
      "Time:                        00:07:01   Log-Likelihood:             1.4568e+05\n",
      "No. Observations:               78468   AIC:                        -2.914e+05\n",
      "Df Residuals:                   78466   BIC:                        -2.913e+05\n",
      "Df Model:                           1                                         \n",
      "Covariance Type:            nonrobust                                         \n",
      "===============================================================================\n",
      "                  coef    std err          t      P>|t|      [0.025      0.975]\n",
      "-------------------------------------------------------------------------------\n",
      "const           0.1785      0.003     60.204      0.000       0.173       0.184\n",
      "ZRI_1yr_ago     0.9783      0.000   2450.553      0.000       0.978       0.979\n",
      "==============================================================================\n",
      "Omnibus:                     7194.317   Durbin-Watson:                   0.249\n",
      "Prob(Omnibus):                  0.000   Jarque-Bera (JB):            45288.574\n",
      "Skew:                          -0.195   Prob(JB):                         0.00\n",
      "Kurtosis:                       6.701   Cond. No.                         166.\n",
      "==============================================================================\n",
      "\n",
      "Warnings:\n",
      "[1] Standard Errors assume that the covariance matrix of the errors is correctly specified.\n"
     ]
    }
   ],
   "source": [
    "import statsmodels.api as sm\n",
    "x = sm.add_constant(X_zri_train)\n",
    "model = sm.OLS(y_zri_train, x)\n",
    "results = model.fit()\n",
    "print(results.summary()) "
   ]
  },
  {
   "cell_type": "markdown",
   "metadata": {},
   "source": [
    "### Lasso with all features"
   ]
  },
  {
   "cell_type": "code",
   "execution_count": 80,
   "metadata": {},
   "outputs": [],
   "source": [
    "lasso_test_X = full_num.loc[full_num['year']== 2017,].iloc[:,6:]\n",
    "lasso_train_X = full_num.loc[full_num['year']!= 2017,].iloc[:,6:]"
   ]
  },
  {
   "cell_type": "code",
   "execution_count": 81,
   "metadata": {},
   "outputs": [],
   "source": [
    "lasso_test_y = full_num.loc[full_num['year']== 2017,]['ZRI']\n",
    "lasso_train_y = full_num.loc[full_num['year']!= 2017,]['ZRI']"
   ]
  },
  {
   "cell_type": "code",
   "execution_count": 82,
   "metadata": {},
   "outputs": [
    {
     "name": "stderr",
     "output_type": "stream",
     "text": [
      "C:\\Users\\Chun\\anaconda3\\lib\\site-packages\\sklearn\\linear_model\\_coordinate_descent.py:525: ConvergenceWarning: Objective did not converge. You might want to increase the number of iterations. Duality gap: 296.7591460765496, tolerance: 70.28473204787024\n",
      "  model = cd_fast.enet_coordinate_descent_gram(\n",
      "C:\\Users\\Chun\\anaconda3\\lib\\site-packages\\sklearn\\linear_model\\_coordinate_descent.py:525: ConvergenceWarning: Objective did not converge. You might want to increase the number of iterations. Duality gap: 280.5337897445283, tolerance: 70.27722241783721\n",
      "  model = cd_fast.enet_coordinate_descent_gram(\n",
      "C:\\Users\\Chun\\anaconda3\\lib\\site-packages\\sklearn\\linear_model\\_coordinate_descent.py:525: ConvergenceWarning: Objective did not converge. You might want to increase the number of iterations. Duality gap: 287.4144141575221, tolerance: 68.94069727164855\n",
      "  model = cd_fast.enet_coordinate_descent_gram(\n",
      "C:\\Users\\Chun\\anaconda3\\lib\\site-packages\\sklearn\\linear_model\\_coordinate_descent.py:525: ConvergenceWarning: Objective did not converge. You might want to increase the number of iterations. Duality gap: 270.18943742217965, tolerance: 68.46910705410822\n",
      "  model = cd_fast.enet_coordinate_descent_gram(\n",
      "C:\\Users\\Chun\\anaconda3\\lib\\site-packages\\sklearn\\linear_model\\_coordinate_descent.py:525: ConvergenceWarning: Objective did not converge. You might want to increase the number of iterations. Duality gap: 262.36173820149156, tolerance: 69.62603285572415\n",
      "  model = cd_fast.enet_coordinate_descent_gram(\n",
      "C:\\Users\\Chun\\anaconda3\\lib\\site-packages\\sklearn\\linear_model\\_coordinate_descent.py:529: ConvergenceWarning: Objective did not converge. You might want to increase the number of iterations. Duality gap: 352.7850917696124, tolerance: 86.91732343749437\n",
      "  model = cd_fast.enet_coordinate_descent(\n",
      "C:\\Users\\Chun\\anaconda3\\lib\\site-packages\\sklearn\\linear_model\\_coordinate_descent.py:525: ConvergenceWarning: Objective did not converge. You might want to increase the number of iterations. Duality gap: 296.81055666396117, tolerance: 70.28473204787024\n",
      "  model = cd_fast.enet_coordinate_descent_gram(\n",
      "C:\\Users\\Chun\\anaconda3\\lib\\site-packages\\sklearn\\linear_model\\_coordinate_descent.py:525: ConvergenceWarning: Objective did not converge. You might want to increase the number of iterations. Duality gap: 280.6729219087114, tolerance: 70.27722241783721\n",
      "  model = cd_fast.enet_coordinate_descent_gram(\n",
      "C:\\Users\\Chun\\anaconda3\\lib\\site-packages\\sklearn\\linear_model\\_coordinate_descent.py:525: ConvergenceWarning: Objective did not converge. You might want to increase the number of iterations. Duality gap: 287.64509914042753, tolerance: 68.94069727164855\n",
      "  model = cd_fast.enet_coordinate_descent_gram(\n",
      "C:\\Users\\Chun\\anaconda3\\lib\\site-packages\\sklearn\\linear_model\\_coordinate_descent.py:525: ConvergenceWarning: Objective did not converge. You might want to increase the number of iterations. Duality gap: 270.2376023076195, tolerance: 68.46910705410822\n",
      "  model = cd_fast.enet_coordinate_descent_gram(\n",
      "C:\\Users\\Chun\\anaconda3\\lib\\site-packages\\sklearn\\linear_model\\_coordinate_descent.py:525: ConvergenceWarning: Objective did not converge. You might want to increase the number of iterations. Duality gap: 262.39839066613405, tolerance: 69.62603285572415\n",
      "  model = cd_fast.enet_coordinate_descent_gram(\n",
      "C:\\Users\\Chun\\anaconda3\\lib\\site-packages\\sklearn\\linear_model\\_coordinate_descent.py:529: ConvergenceWarning: Objective did not converge. You might want to increase the number of iterations. Duality gap: 352.93898168094904, tolerance: 86.91732343749437\n",
      "  model = cd_fast.enet_coordinate_descent(\n",
      "C:\\Users\\Chun\\anaconda3\\lib\\site-packages\\sklearn\\linear_model\\_coordinate_descent.py:525: ConvergenceWarning: Objective did not converge. You might want to increase the number of iterations. Duality gap: 296.7201658726357, tolerance: 70.28473204787024\n",
      "  model = cd_fast.enet_coordinate_descent_gram(\n",
      "C:\\Users\\Chun\\anaconda3\\lib\\site-packages\\sklearn\\linear_model\\_coordinate_descent.py:525: ConvergenceWarning: Objective did not converge. You might want to increase the number of iterations. Duality gap: 280.67151422326685, tolerance: 70.27722241783721\n",
      "  model = cd_fast.enet_coordinate_descent_gram(\n",
      "C:\\Users\\Chun\\anaconda3\\lib\\site-packages\\sklearn\\linear_model\\_coordinate_descent.py:525: ConvergenceWarning: Objective did not converge. You might want to increase the number of iterations. Duality gap: 287.7777575415903, tolerance: 68.94069727164855\n",
      "  model = cd_fast.enet_coordinate_descent_gram(\n",
      "C:\\Users\\Chun\\anaconda3\\lib\\site-packages\\sklearn\\linear_model\\_coordinate_descent.py:525: ConvergenceWarning: Objective did not converge. You might want to increase the number of iterations. Duality gap: 270.15685454934373, tolerance: 68.46910705410822\n",
      "  model = cd_fast.enet_coordinate_descent_gram(\n",
      "C:\\Users\\Chun\\anaconda3\\lib\\site-packages\\sklearn\\linear_model\\_coordinate_descent.py:525: ConvergenceWarning: Objective did not converge. You might want to increase the number of iterations. Duality gap: 262.3572476626646, tolerance: 69.62603285572415\n",
      "  model = cd_fast.enet_coordinate_descent_gram(\n",
      "C:\\Users\\Chun\\anaconda3\\lib\\site-packages\\sklearn\\linear_model\\_coordinate_descent.py:529: ConvergenceWarning: Objective did not converge. You might want to increase the number of iterations. Duality gap: 352.95446029759916, tolerance: 86.91732343749437\n",
      "  model = cd_fast.enet_coordinate_descent(\n",
      "C:\\Users\\Chun\\anaconda3\\lib\\site-packages\\sklearn\\linear_model\\_coordinate_descent.py:525: ConvergenceWarning: Objective did not converge. You might want to increase the number of iterations. Duality gap: 296.33718962845563, tolerance: 70.28473204787024\n",
      "  model = cd_fast.enet_coordinate_descent_gram(\n",
      "C:\\Users\\Chun\\anaconda3\\lib\\site-packages\\sklearn\\linear_model\\_coordinate_descent.py:525: ConvergenceWarning: Objective did not converge. You might want to increase the number of iterations. Duality gap: 280.43818165884863, tolerance: 70.27722241783721\n",
      "  model = cd_fast.enet_coordinate_descent_gram(\n",
      "C:\\Users\\Chun\\anaconda3\\lib\\site-packages\\sklearn\\linear_model\\_coordinate_descent.py:525: ConvergenceWarning: Objective did not converge. You might want to increase the number of iterations. Duality gap: 287.7112742434759, tolerance: 68.94069727164855\n",
      "  model = cd_fast.enet_coordinate_descent_gram(\n",
      "C:\\Users\\Chun\\anaconda3\\lib\\site-packages\\sklearn\\linear_model\\_coordinate_descent.py:525: ConvergenceWarning: Objective did not converge. You might want to increase the number of iterations. Duality gap: 269.79490286998606, tolerance: 68.46910705410822\n",
      "  model = cd_fast.enet_coordinate_descent_gram(\n",
      "C:\\Users\\Chun\\anaconda3\\lib\\site-packages\\sklearn\\linear_model\\_coordinate_descent.py:525: ConvergenceWarning: Objective did not converge. You might want to increase the number of iterations. Duality gap: 262.0636362987633, tolerance: 69.62603285572415\n",
      "  model = cd_fast.enet_coordinate_descent_gram(\n",
      "C:\\Users\\Chun\\anaconda3\\lib\\site-packages\\sklearn\\linear_model\\_coordinate_descent.py:529: ConvergenceWarning: Objective did not converge. You might want to increase the number of iterations. Duality gap: 352.71014474460486, tolerance: 86.91732343749437\n",
      "  model = cd_fast.enet_coordinate_descent(\n",
      "C:\\Users\\Chun\\anaconda3\\lib\\site-packages\\sklearn\\linear_model\\_coordinate_descent.py:525: ConvergenceWarning: Objective did not converge. You might want to increase the number of iterations. Duality gap: 295.29827443019025, tolerance: 70.28473204787024\n",
      "  model = cd_fast.enet_coordinate_descent_gram(\n",
      "C:\\Users\\Chun\\anaconda3\\lib\\site-packages\\sklearn\\linear_model\\_coordinate_descent.py:525: ConvergenceWarning: Objective did not converge. You might want to increase the number of iterations. Duality gap: 279.7194767159395, tolerance: 70.27722241783721\n",
      "  model = cd_fast.enet_coordinate_descent_gram(\n",
      "C:\\Users\\Chun\\anaconda3\\lib\\site-packages\\sklearn\\linear_model\\_coordinate_descent.py:525: ConvergenceWarning: Objective did not converge. You might want to increase the number of iterations. Duality gap: 287.1942229478375, tolerance: 68.94069727164855\n",
      "  model = cd_fast.enet_coordinate_descent_gram(\n",
      "C:\\Users\\Chun\\anaconda3\\lib\\site-packages\\sklearn\\linear_model\\_coordinate_descent.py:525: ConvergenceWarning: Objective did not converge. You might want to increase the number of iterations. Duality gap: 268.93248984610625, tolerance: 68.46910705410822\n",
      "  model = cd_fast.enet_coordinate_descent_gram(\n"
     ]
    },
    {
     "name": "stderr",
     "output_type": "stream",
     "text": [
      "C:\\Users\\Chun\\anaconda3\\lib\\site-packages\\sklearn\\linear_model\\_coordinate_descent.py:525: ConvergenceWarning: Objective did not converge. You might want to increase the number of iterations. Duality gap: 261.478005664403, tolerance: 69.62603285572415\n",
      "  model = cd_fast.enet_coordinate_descent_gram(\n",
      "C:\\Users\\Chun\\anaconda3\\lib\\site-packages\\sklearn\\linear_model\\_coordinate_descent.py:529: ConvergenceWarning: Objective did not converge. You might want to increase the number of iterations. Duality gap: 351.82567798699614, tolerance: 86.91732343749437\n",
      "  model = cd_fast.enet_coordinate_descent(\n",
      "C:\\Users\\Chun\\anaconda3\\lib\\site-packages\\sklearn\\linear_model\\_coordinate_descent.py:525: ConvergenceWarning: Objective did not converge. You might want to increase the number of iterations. Duality gap: 293.46637801109057, tolerance: 70.28473204787024\n",
      "  model = cd_fast.enet_coordinate_descent_gram(\n",
      "C:\\Users\\Chun\\anaconda3\\lib\\site-packages\\sklearn\\linear_model\\_coordinate_descent.py:525: ConvergenceWarning: Objective did not converge. You might want to increase the number of iterations. Duality gap: 278.416022555373, tolerance: 70.27722241783721\n",
      "  model = cd_fast.enet_coordinate_descent_gram(\n",
      "C:\\Users\\Chun\\anaconda3\\lib\\site-packages\\sklearn\\linear_model\\_coordinate_descent.py:525: ConvergenceWarning: Objective did not converge. You might want to increase the number of iterations. Duality gap: 286.1067300633678, tolerance: 68.94069727164855\n",
      "  model = cd_fast.enet_coordinate_descent_gram(\n",
      "C:\\Users\\Chun\\anaconda3\\lib\\site-packages\\sklearn\\linear_model\\_coordinate_descent.py:525: ConvergenceWarning: Objective did not converge. You might want to increase the number of iterations. Duality gap: 267.2561614879864, tolerance: 68.46910705410822\n",
      "  model = cd_fast.enet_coordinate_descent_gram(\n",
      "C:\\Users\\Chun\\anaconda3\\lib\\site-packages\\sklearn\\linear_model\\_coordinate_descent.py:525: ConvergenceWarning: Objective did not converge. You might want to increase the number of iterations. Duality gap: 260.3319756773475, tolerance: 69.62603285572415\n",
      "  model = cd_fast.enet_coordinate_descent_gram(\n",
      "C:\\Users\\Chun\\anaconda3\\lib\\site-packages\\sklearn\\linear_model\\_coordinate_descent.py:529: ConvergenceWarning: Objective did not converge. You might want to increase the number of iterations. Duality gap: 350.18302510208906, tolerance: 86.91732343749437\n",
      "  model = cd_fast.enet_coordinate_descent(\n",
      "C:\\Users\\Chun\\anaconda3\\lib\\site-packages\\sklearn\\linear_model\\_coordinate_descent.py:525: ConvergenceWarning: Objective did not converge. You might want to increase the number of iterations. Duality gap: 290.1402542456536, tolerance: 70.28473204787024\n",
      "  model = cd_fast.enet_coordinate_descent_gram(\n",
      "C:\\Users\\Chun\\anaconda3\\lib\\site-packages\\sklearn\\linear_model\\_coordinate_descent.py:525: ConvergenceWarning: Objective did not converge. You might want to increase the number of iterations. Duality gap: 276.1351045011707, tolerance: 70.27722241783721\n",
      "  model = cd_fast.enet_coordinate_descent_gram(\n",
      "C:\\Users\\Chun\\anaconda3\\lib\\site-packages\\sklearn\\linear_model\\_coordinate_descent.py:525: ConvergenceWarning: Objective did not converge. You might want to increase the number of iterations. Duality gap: 284.02562754700836, tolerance: 68.94069727164855\n",
      "  model = cd_fast.enet_coordinate_descent_gram(\n",
      "C:\\Users\\Chun\\anaconda3\\lib\\site-packages\\sklearn\\linear_model\\_coordinate_descent.py:525: ConvergenceWarning: Objective did not converge. You might want to increase the number of iterations. Duality gap: 264.55961275491694, tolerance: 68.46910705410822\n",
      "  model = cd_fast.enet_coordinate_descent_gram(\n",
      "C:\\Users\\Chun\\anaconda3\\lib\\site-packages\\sklearn\\linear_model\\_coordinate_descent.py:525: ConvergenceWarning: Objective did not converge. You might want to increase the number of iterations. Duality gap: 258.1341134743404, tolerance: 69.62603285572415\n",
      "  model = cd_fast.enet_coordinate_descent_gram(\n",
      "C:\\Users\\Chun\\anaconda3\\lib\\site-packages\\sklearn\\linear_model\\_coordinate_descent.py:529: ConvergenceWarning: Objective did not converge. You might want to increase the number of iterations. Duality gap: 347.14463274483285, tolerance: 86.91732343749437\n",
      "  model = cd_fast.enet_coordinate_descent(\n",
      "C:\\Users\\Chun\\anaconda3\\lib\\site-packages\\sklearn\\linear_model\\_coordinate_descent.py:525: ConvergenceWarning: Objective did not converge. You might want to increase the number of iterations. Duality gap: 284.3644380066973, tolerance: 70.28473204787024\n",
      "  model = cd_fast.enet_coordinate_descent_gram(\n",
      "C:\\Users\\Chun\\anaconda3\\lib\\site-packages\\sklearn\\linear_model\\_coordinate_descent.py:525: ConvergenceWarning: Objective did not converge. You might want to increase the number of iterations. Duality gap: 272.05991122084515, tolerance: 70.27722241783721\n",
      "  model = cd_fast.enet_coordinate_descent_gram(\n",
      "C:\\Users\\Chun\\anaconda3\\lib\\site-packages\\sklearn\\linear_model\\_coordinate_descent.py:525: ConvergenceWarning: Objective did not converge. You might want to increase the number of iterations. Duality gap: 280.39179656186116, tolerance: 68.94069727164855\n",
      "  model = cd_fast.enet_coordinate_descent_gram(\n",
      "C:\\Users\\Chun\\anaconda3\\lib\\site-packages\\sklearn\\linear_model\\_coordinate_descent.py:525: ConvergenceWarning: Objective did not converge. You might want to increase the number of iterations. Duality gap: 259.67679625340327, tolerance: 68.46910705410822\n",
      "  model = cd_fast.enet_coordinate_descent_gram(\n",
      "C:\\Users\\Chun\\anaconda3\\lib\\site-packages\\sklearn\\linear_model\\_coordinate_descent.py:525: ConvergenceWarning: Objective did not converge. You might want to increase the number of iterations. Duality gap: 254.41822022011647, tolerance: 69.62603285572415\n",
      "  model = cd_fast.enet_coordinate_descent_gram(\n",
      "C:\\Users\\Chun\\anaconda3\\lib\\site-packages\\sklearn\\linear_model\\_coordinate_descent.py:529: ConvergenceWarning: Objective did not converge. You might want to increase the number of iterations. Duality gap: 341.63113164762296, tolerance: 86.91732343749437\n",
      "  model = cd_fast.enet_coordinate_descent(\n",
      "C:\\Users\\Chun\\anaconda3\\lib\\site-packages\\sklearn\\linear_model\\_coordinate_descent.py:525: ConvergenceWarning: Objective did not converge. You might want to increase the number of iterations. Duality gap: 274.90106458322356, tolerance: 70.28473204787024\n",
      "  model = cd_fast.enet_coordinate_descent_gram(\n",
      "C:\\Users\\Chun\\anaconda3\\lib\\site-packages\\sklearn\\linear_model\\_coordinate_descent.py:525: ConvergenceWarning: Objective did not converge. You might want to increase the number of iterations. Duality gap: 263.2039794774329, tolerance: 70.27722241783721\n",
      "  model = cd_fast.enet_coordinate_descent_gram(\n",
      "C:\\Users\\Chun\\anaconda3\\lib\\site-packages\\sklearn\\linear_model\\_coordinate_descent.py:525: ConvergenceWarning: Objective did not converge. You might want to increase the number of iterations. Duality gap: 274.1306680788824, tolerance: 68.94069727164855\n",
      "  model = cd_fast.enet_coordinate_descent_gram(\n",
      "C:\\Users\\Chun\\anaconda3\\lib\\site-packages\\sklearn\\linear_model\\_coordinate_descent.py:525: ConvergenceWarning: Objective did not converge. You might want to increase the number of iterations. Duality gap: 250.6741764822521, tolerance: 68.46910705410822\n",
      "  model = cd_fast.enet_coordinate_descent_gram(\n",
      "C:\\Users\\Chun\\anaconda3\\lib\\site-packages\\sklearn\\linear_model\\_coordinate_descent.py:525: ConvergenceWarning: Objective did not converge. You might want to increase the number of iterations. Duality gap: 247.70529898294967, tolerance: 69.62603285572415\n",
      "  model = cd_fast.enet_coordinate_descent_gram(\n",
      "C:\\Users\\Chun\\anaconda3\\lib\\site-packages\\sklearn\\linear_model\\_coordinate_descent.py:529: ConvergenceWarning: Objective did not converge. You might want to increase the number of iterations. Duality gap: 332.0109865872924, tolerance: 86.91732343749437\n",
      "  model = cd_fast.enet_coordinate_descent(\n",
      "C:\\Users\\Chun\\anaconda3\\lib\\site-packages\\sklearn\\linear_model\\_coordinate_descent.py:525: ConvergenceWarning: Objective did not converge. You might want to increase the number of iterations. Duality gap: 255.34967715596224, tolerance: 70.28473204787024\n",
      "  model = cd_fast.enet_coordinate_descent_gram(\n",
      "C:\\Users\\Chun\\anaconda3\\lib\\site-packages\\sklearn\\linear_model\\_coordinate_descent.py:525: ConvergenceWarning: Objective did not converge. You might want to increase the number of iterations. Duality gap: 250.38185861476495, tolerance: 70.27722241783721\n",
      "  model = cd_fast.enet_coordinate_descent_gram(\n"
     ]
    },
    {
     "name": "stderr",
     "output_type": "stream",
     "text": [
      "C:\\Users\\Chun\\anaconda3\\lib\\site-packages\\sklearn\\linear_model\\_coordinate_descent.py:525: ConvergenceWarning: Objective did not converge. You might want to increase the number of iterations. Duality gap: 263.4141780215004, tolerance: 68.94069727164855\n",
      "  model = cd_fast.enet_coordinate_descent_gram(\n",
      "C:\\Users\\Chun\\anaconda3\\lib\\site-packages\\sklearn\\linear_model\\_coordinate_descent.py:525: ConvergenceWarning: Objective did not converge. You might want to increase the number of iterations. Duality gap: 234.647576264431, tolerance: 68.46910705410822\n",
      "  model = cd_fast.enet_coordinate_descent_gram(\n",
      "C:\\Users\\Chun\\anaconda3\\lib\\site-packages\\sklearn\\linear_model\\_coordinate_descent.py:525: ConvergenceWarning: Objective did not converge. You might want to increase the number of iterations. Duality gap: 236.44340133246317, tolerance: 69.62603285572415\n",
      "  model = cd_fast.enet_coordinate_descent_gram(\n",
      "C:\\Users\\Chun\\anaconda3\\lib\\site-packages\\sklearn\\linear_model\\_coordinate_descent.py:529: ConvergenceWarning: Objective did not converge. You might want to increase the number of iterations. Duality gap: 316.38319474649006, tolerance: 86.91732343749437\n",
      "  model = cd_fast.enet_coordinate_descent(\n",
      "C:\\Users\\Chun\\anaconda3\\lib\\site-packages\\sklearn\\linear_model\\_coordinate_descent.py:525: ConvergenceWarning: Objective did not converge. You might want to increase the number of iterations. Duality gap: 222.81980761484488, tolerance: 70.28473204787024\n",
      "  model = cd_fast.enet_coordinate_descent_gram(\n",
      "C:\\Users\\Chun\\anaconda3\\lib\\site-packages\\sklearn\\linear_model\\_coordinate_descent.py:525: ConvergenceWarning: Objective did not converge. You might want to increase the number of iterations. Duality gap: 224.851676178829, tolerance: 70.27722241783721\n",
      "  model = cd_fast.enet_coordinate_descent_gram(\n",
      "C:\\Users\\Chun\\anaconda3\\lib\\site-packages\\sklearn\\linear_model\\_coordinate_descent.py:525: ConvergenceWarning: Objective did not converge. You might want to increase the number of iterations. Duality gap: 244.13214463039992, tolerance: 68.94069727164855\n",
      "  model = cd_fast.enet_coordinate_descent_gram(\n",
      "C:\\Users\\Chun\\anaconda3\\lib\\site-packages\\sklearn\\linear_model\\_coordinate_descent.py:525: ConvergenceWarning: Objective did not converge. You might want to increase the number of iterations. Duality gap: 205.47706181872474, tolerance: 68.46910705410822\n",
      "  model = cd_fast.enet_coordinate_descent_gram(\n",
      "C:\\Users\\Chun\\anaconda3\\lib\\site-packages\\sklearn\\linear_model\\_coordinate_descent.py:525: ConvergenceWarning: Objective did not converge. You might want to increase the number of iterations. Duality gap: 217.41642640062486, tolerance: 69.62603285572415\n",
      "  model = cd_fast.enet_coordinate_descent_gram(\n",
      "C:\\Users\\Chun\\anaconda3\\lib\\site-packages\\sklearn\\linear_model\\_coordinate_descent.py:529: ConvergenceWarning: Objective did not converge. You might want to increase the number of iterations. Duality gap: 287.337760813159, tolerance: 86.91732343749437\n",
      "  model = cd_fast.enet_coordinate_descent(\n",
      "C:\\Users\\Chun\\anaconda3\\lib\\site-packages\\sklearn\\linear_model\\_coordinate_descent.py:525: ConvergenceWarning: Objective did not converge. You might want to increase the number of iterations. Duality gap: 170.1926990863608, tolerance: 70.28473204787024\n",
      "  model = cd_fast.enet_coordinate_descent_gram(\n",
      "C:\\Users\\Chun\\anaconda3\\lib\\site-packages\\sklearn\\linear_model\\_coordinate_descent.py:525: ConvergenceWarning: Objective did not converge. You might want to increase the number of iterations. Duality gap: 183.03145991774807, tolerance: 70.27722241783721\n",
      "  model = cd_fast.enet_coordinate_descent_gram(\n",
      "C:\\Users\\Chun\\anaconda3\\lib\\site-packages\\sklearn\\linear_model\\_coordinate_descent.py:525: ConvergenceWarning: Objective did not converge. You might want to increase the number of iterations. Duality gap: 211.92694603423274, tolerance: 68.94069727164855\n",
      "  model = cd_fast.enet_coordinate_descent_gram(\n",
      "C:\\Users\\Chun\\anaconda3\\lib\\site-packages\\sklearn\\linear_model\\_coordinate_descent.py:525: ConvergenceWarning: Objective did not converge. You might want to increase the number of iterations. Duality gap: 160.00485711851718, tolerance: 68.46910705410822\n",
      "  model = cd_fast.enet_coordinate_descent_gram(\n",
      "C:\\Users\\Chun\\anaconda3\\lib\\site-packages\\sklearn\\linear_model\\_coordinate_descent.py:525: ConvergenceWarning: Objective did not converge. You might want to increase the number of iterations. Duality gap: 176.69606288221883, tolerance: 69.62603285572415\n",
      "  model = cd_fast.enet_coordinate_descent_gram(\n",
      "C:\\Users\\Chun\\anaconda3\\lib\\site-packages\\sklearn\\linear_model\\_coordinate_descent.py:529: ConvergenceWarning: Objective did not converge. You might want to increase the number of iterations. Duality gap: 241.82021204234985, tolerance: 86.91732343749437\n",
      "  model = cd_fast.enet_coordinate_descent(\n",
      "C:\\Users\\Chun\\anaconda3\\lib\\site-packages\\sklearn\\linear_model\\_coordinate_descent.py:525: ConvergenceWarning: Objective did not converge. You might want to increase the number of iterations. Duality gap: 97.09040301420771, tolerance: 70.28473204787024\n",
      "  model = cd_fast.enet_coordinate_descent_gram(\n",
      "C:\\Users\\Chun\\anaconda3\\lib\\site-packages\\sklearn\\linear_model\\_coordinate_descent.py:525: ConvergenceWarning: Objective did not converge. You might want to increase the number of iterations. Duality gap: 132.94860790092724, tolerance: 70.27722241783721\n",
      "  model = cd_fast.enet_coordinate_descent_gram(\n",
      "C:\\Users\\Chun\\anaconda3\\lib\\site-packages\\sklearn\\linear_model\\_coordinate_descent.py:525: ConvergenceWarning: Objective did not converge. You might want to increase the number of iterations. Duality gap: 148.94784192689053, tolerance: 68.94069727164855\n",
      "  model = cd_fast.enet_coordinate_descent_gram(\n",
      "C:\\Users\\Chun\\anaconda3\\lib\\site-packages\\sklearn\\linear_model\\_coordinate_descent.py:529: ConvergenceWarning: Objective did not converge. You might want to increase the number of iterations. Duality gap: 154.69208186341405, tolerance: 86.91732343749437\n",
      "  model = cd_fast.enet_coordinate_descent(\n"
     ]
    }
   ],
   "source": [
    "from sklearn.linear_model import LassoCV\n",
    "lasso_cv = LassoCV(cv=5, random_state=0, max_iter=3000, tol=0.01)\n",
    "\n",
    "intercepts = []\n",
    "R2  = []\n",
    "coefs_dict = {}\n",
    "MSE = []\n",
    "\n",
    "\n",
    "alphaRange = np.logspace(-8,-4,20)\n",
    "for alpha in alphaRange:\n",
    "    lasso_cv.set_params(alphas=[alpha])  \n",
    "    lasso_cv.fit(lasso_train_X, lasso_train_y)\n",
    "    intercepts.append(lasso_cv.intercept_)\n",
    "    coefs_dict[alpha] = lasso_cv.coef_\n",
    "    R2.append(lasso_cv.score(lasso_train_X, lasso_train_y)) \n",
    "    MSE.append(lasso_cv.mse_path_.mean())"
   ]
  },
  {
   "cell_type": "code",
   "execution_count": 83,
   "metadata": {},
   "outputs": [
    {
     "name": "stdout",
     "output_type": "stream",
     "text": [
      "0 0.0 247 0.91889 0.009875\n",
      "1 0.0 244 0.91881 0.009881\n",
      "2 0.0 243 0.91875 0.009888\n",
      "3 0.0 242 0.91861 0.009905\n",
      "4 0.0 237 0.91849 0.00991\n",
      "5 0.0 237 0.91838 0.009911\n",
      "6 0.0 229 0.91826 0.009907\n",
      "7 0.0 225 0.91816 0.009899\n",
      "8 0.0 217 0.91799 0.009899\n",
      "9 0.0 215 0.91783 0.009894\n",
      "10 0.0 197 0.91757 0.00989\n",
      "11 0.0 193 0.91707 0.009907\n",
      "12 0.0 185 0.91603 0.009994\n",
      "13 1e-05 174 0.91414 0.01016\n",
      "14 1e-05 155 0.91217 0.010333\n",
      "15 1e-05 138 0.90909 0.010624\n",
      "16 2e-05 118 0.90532 0.011018\n",
      "17 4e-05 105 0.9011 0.011465\n",
      "18 6e-05 87 0.89435 0.0122\n",
      "19 0.0001 69 0.88538 0.013156\n"
     ]
    }
   ],
   "source": [
    "for i in range(20):\n",
    "    alpha = alphaRange[i]\n",
    "    coef_alpha = coefs_dict[alpha]\n",
    "    print(i, round(alpha,5), len(coef_alpha[coef_alpha!=0]),round(R2[i],5), round(MSE[i],6))"
   ]
  },
  {
   "cell_type": "code",
   "execution_count": null,
   "metadata": {},
   "outputs": [],
   "source": [
    "lasso_cv.set_params(alphas=alphaRange[19])"
   ]
  },
  {
   "cell_type": "code",
   "execution_count": null,
   "metadata": {},
   "outputs": [],
   "source": [
    "lasso_cv.score(lasso_irs_test_X, lasso_irs_test_y)"
   ]
  },
  {
   "cell_type": "code",
   "execution_count": null,
   "metadata": {},
   "outputs": [],
   "source": [
    "lasso_cv.set_params(alphas=alphaRange[2])"
   ]
  },
  {
   "cell_type": "code",
   "execution_count": null,
   "metadata": {},
   "outputs": [],
   "source": [
    "lasso_cv.score(lasso_irs_test_X, lasso_irs_test_y)"
   ]
  },
  {
   "cell_type": "code",
   "execution_count": null,
   "metadata": {},
   "outputs": [],
   "source": []
  }
 ],
 "metadata": {
  "kernelspec": {
   "display_name": "Python 3",
   "language": "python",
   "name": "python3"
  },
  "language_info": {
   "codemirror_mode": {
    "name": "ipython",
    "version": 3
   },
   "file_extension": ".py",
   "mimetype": "text/x-python",
   "name": "python",
   "nbconvert_exporter": "python",
   "pygments_lexer": "ipython3",
   "version": "3.8.3"
  }
 },
 "nbformat": 4,
 "nbformat_minor": 4
}
